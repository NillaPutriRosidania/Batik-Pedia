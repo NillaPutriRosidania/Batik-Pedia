{
  "cells": [
    {
      "cell_type": "markdown",
      "metadata": {
        "id": "wD75HllTgHjf"
      },
      "source": [
        "# Data Preparation"
      ]
    },
    {
      "cell_type": "code",
      "execution_count": null,
      "metadata": {
        "id": "Yz_iwJ4Gouz6"
      },
      "outputs": [],
      "source": [
        "import os\n",
        "import tensorflow as tf\n",
        "from tensorflow.keras.preprocessing.image import ImageDataGenerator\n",
        "import matplotlib.pyplot as plt\n",
        "import numpy as np\n",
        "from tensorflow.keras.preprocessing.image import ImageDataGenerator, img_to_array, load_img\n",
        "from tensorflow.keras.models import load_model\n",
        "from tensorflow.keras.preprocessing import image"
      ]
    },
    {
      "cell_type": "code",
      "execution_count": null,
      "metadata": {
        "colab": {
          "base_uri": "https://localhost:8080/"
        },
        "id": "YWFEQnGD2bed",
        "outputId": "1cec0d43-7ed5-49b1-80c0-0e49ef5454e7"
      },
      "outputs": [
        {
          "output_type": "stream",
          "name": "stdout",
          "text": [
            "Requirement already satisfied: gdown in /usr/local/lib/python3.10/dist-packages (5.1.0)\n",
            "Requirement already satisfied: beautifulsoup4 in /usr/local/lib/python3.10/dist-packages (from gdown) (4.12.3)\n",
            "Requirement already satisfied: filelock in /usr/local/lib/python3.10/dist-packages (from gdown) (3.14.0)\n",
            "Requirement already satisfied: requests[socks] in /usr/local/lib/python3.10/dist-packages (from gdown) (2.31.0)\n",
            "Requirement already satisfied: tqdm in /usr/local/lib/python3.10/dist-packages (from gdown) (4.66.4)\n",
            "Requirement already satisfied: soupsieve>1.2 in /usr/local/lib/python3.10/dist-packages (from beautifulsoup4->gdown) (2.5)\n",
            "Requirement already satisfied: charset-normalizer<4,>=2 in /usr/local/lib/python3.10/dist-packages (from requests[socks]->gdown) (3.3.2)\n",
            "Requirement already satisfied: idna<4,>=2.5 in /usr/local/lib/python3.10/dist-packages (from requests[socks]->gdown) (3.7)\n",
            "Requirement already satisfied: urllib3<3,>=1.21.1 in /usr/local/lib/python3.10/dist-packages (from requests[socks]->gdown) (2.0.7)\n",
            "Requirement already satisfied: certifi>=2017.4.17 in /usr/local/lib/python3.10/dist-packages (from requests[socks]->gdown) (2024.6.2)\n",
            "Requirement already satisfied: PySocks!=1.5.7,>=1.5.6 in /usr/local/lib/python3.10/dist-packages (from requests[socks]->gdown) (1.7.1)\n",
            "/usr/local/lib/python3.10/dist-packages/gdown/__main__.py:132: FutureWarning: Option `--id` was deprecated in version 4.3.1 and will be removed in 5.0. You don't need to pass it anymore to use a file ID.\n",
            "  warnings.warn(\n",
            "Downloading...\n",
            "From (original): https://drive.google.com/uc?id=1my5Xr0NSYaEsgwaDEG9HkaK1LOlNsnFJ\n",
            "From (redirected): https://drive.google.com/uc?id=1my5Xr0NSYaEsgwaDEG9HkaK1LOlNsnFJ&confirm=t&uuid=4accca37-8d03-4de6-bf57-3b5f406d5fe8\n",
            "To: /content/dataset2.zip\n",
            "100% 810M/810M [00:26<00:00, 30.1MB/s]\n"
          ]
        }
      ],
      "source": [
        "!pip install gdown\n",
        "!gdown --id 1my5Xr0NSYaEsgwaDEG9HkaK1LOlNsnFJ\n",
        "\n",
        "# Unzip the file\n",
        "!unzip -q dataset2.zip"
      ]
    },
    {
      "cell_type": "code",
      "source": [
        "from google.colab import drive\n",
        "drive.mount('/content/drive')"
      ],
      "metadata": {
        "id": "R5bV9RnbY5yY"
      },
      "execution_count": null,
      "outputs": []
    },
    {
      "cell_type": "code",
      "execution_count": null,
      "metadata": {
        "colab": {
          "base_uri": "https://localhost:8080/"
        },
        "id": "mZBg9V3fxzDJ",
        "outputId": "e6d0c7f0-3965-444e-bda0-29fb1bb37c00"
      },
      "outputs": [
        {
          "output_type": "stream",
          "name": "stdout",
          "text": [
            "Found 1490 images belonging to 10 classes.\n",
            "Found 200 images belonging to 10 classes.\n"
          ]
        }
      ],
      "source": [
        "TRAINING_DIR = '/content/dataset/TRAIN'\n",
        "VALIDATION_DIR = '/content/dataset/TEST'\n",
        "\n",
        "training_datagen = ImageDataGenerator(\n",
        "    rescale=1./255\n",
        ")\n",
        "\n",
        "validation_datagen = ImageDataGenerator(\n",
        "    rescale = 1./255\n",
        ")\n",
        "\n",
        "train_generator = training_datagen.flow_from_directory(\n",
        "    TRAINING_DIR,\n",
        "    target_size = (150,150),\n",
        "    class_mode = 'categorical',\n",
        ")\n",
        "\n",
        "validation_generator = validation_datagen.flow_from_directory(\n",
        "    VALIDATION_DIR,\n",
        "    target_size = (150,150),\n",
        "    class_mode = 'categorical',\n",
        ")"
      ]
    },
    {
      "cell_type": "markdown",
      "metadata": {
        "id": "QJCESTdlxFtv"
      },
      "source": [
        "# Model"
      ]
    },
    {
      "cell_type": "markdown",
      "metadata": {
        "id": "ZusymUyE8aPR"
      },
      "source": [
        "## CNN Model"
      ]
    },
    {
      "cell_type": "code",
      "execution_count": null,
      "metadata": {
        "id": "H54jLnSlgOPb"
      },
      "outputs": [],
      "source": [
        "import tensorflow as tf\n",
        "\n",
        "# Define the model\n",
        "model = tf.keras.models.Sequential([\n",
        "    tf.keras.layers.Conv2D(64, (3,3), activation='relu', input_shape=(150, 150, 3)),\n",
        "    tf.keras.layers.MaxPooling2D(2, 2),\n",
        "    tf.keras.layers.Conv2D(64, (3,3), activation='relu'),\n",
        "    tf.keras.layers.MaxPooling2D(2, 2),\n",
        "    tf.keras.layers.Conv2D(128, (3, 3), activation='relu'),\n",
        "    tf.keras.layers.MaxPooling2D(2, 2),\n",
        "    tf.keras.layers.Conv2D(128, (3,3), activation='relu'),\n",
        "    tf.keras.layers.MaxPooling2D(2, 2),\n",
        "    tf.keras.layers.Conv2D(256, (3,3), activation='relu', padding='same'),\n",
        "    tf.keras.layers.MaxPooling2D(2, 2),\n",
        "    tf.keras.layers.Conv2D(256, (3,3), activation='relu', padding='same'),\n",
        "    tf.keras.layers.MaxPooling2D(2, 2),\n",
        "    tf.keras.layers.Flatten(),\n",
        "    tf.keras.layers.Dropout(0.5),\n",
        "    tf.keras.layers.Dense(512, activation='relu'),\n",
        "    tf.keras.layers.Dense(10, activation='softmax'),\n",
        "])\n"
      ]
    },
    {
      "cell_type": "markdown",
      "metadata": {
        "id": "-WxS_ft47qFp"
      },
      "source": [
        "##Train Model"
      ]
    },
    {
      "cell_type": "code",
      "execution_count": null,
      "metadata": {
        "colab": {
          "base_uri": "https://localhost:8080/"
        },
        "id": "9yLDLMqy7pDP",
        "outputId": "9b499519-8232-4693-aa30-b57f864f1bb7"
      },
      "outputs": [
        {
          "output_type": "stream",
          "name": "stdout",
          "text": [
            "Epoch 1/100\n",
            "47/47 [==============================] - 34s 527ms/step - loss: 2.3009 - accuracy: 0.0987 - val_loss: 2.2912 - val_accuracy: 0.1400\n",
            "Epoch 2/100\n",
            "47/47 [==============================] - 24s 506ms/step - loss: 2.2530 - accuracy: 0.1658 - val_loss: 2.1867 - val_accuracy: 0.1950\n",
            "Epoch 3/100\n",
            "47/47 [==============================] - 23s 500ms/step - loss: 2.1452 - accuracy: 0.2060 - val_loss: 2.1193 - val_accuracy: 0.2350\n",
            "Epoch 4/100\n",
            "47/47 [==============================] - 23s 482ms/step - loss: 2.0954 - accuracy: 0.2282 - val_loss: 2.0479 - val_accuracy: 0.2900\n",
            "Epoch 5/100\n",
            "47/47 [==============================] - 23s 500ms/step - loss: 2.0393 - accuracy: 0.2591 - val_loss: 2.2146 - val_accuracy: 0.1950\n",
            "Epoch 6/100\n",
            "47/47 [==============================] - 24s 500ms/step - loss: 1.9927 - accuracy: 0.2664 - val_loss: 1.9695 - val_accuracy: 0.3550\n",
            "Epoch 7/100\n",
            "47/47 [==============================] - 23s 484ms/step - loss: 1.9679 - accuracy: 0.2993 - val_loss: 1.8931 - val_accuracy: 0.3650\n",
            "Epoch 8/100\n",
            "47/47 [==============================] - 22s 483ms/step - loss: 1.8777 - accuracy: 0.3242 - val_loss: 1.8347 - val_accuracy: 0.3500\n",
            "Epoch 9/100\n",
            "47/47 [==============================] - 23s 479ms/step - loss: 1.8266 - accuracy: 0.3409 - val_loss: 1.8359 - val_accuracy: 0.3800\n",
            "Epoch 10/100\n",
            "47/47 [==============================] - 24s 495ms/step - loss: 1.7894 - accuracy: 0.3631 - val_loss: 1.7707 - val_accuracy: 0.4000\n",
            "Epoch 11/100\n",
            "47/47 [==============================] - 24s 508ms/step - loss: 1.7752 - accuracy: 0.3544 - val_loss: 1.8346 - val_accuracy: 0.3250\n",
            "Epoch 12/100\n",
            "47/47 [==============================] - 23s 494ms/step - loss: 1.7380 - accuracy: 0.3886 - val_loss: 1.7917 - val_accuracy: 0.3850\n",
            "Epoch 13/100\n",
            "47/47 [==============================] - 24s 500ms/step - loss: 1.7183 - accuracy: 0.3785 - val_loss: 1.7214 - val_accuracy: 0.3950\n",
            "Epoch 14/100\n",
            "47/47 [==============================] - 24s 513ms/step - loss: 1.7129 - accuracy: 0.3765 - val_loss: 1.6840 - val_accuracy: 0.4250\n",
            "Epoch 15/100\n",
            "47/47 [==============================] - 23s 496ms/step - loss: 1.6932 - accuracy: 0.3846 - val_loss: 1.6866 - val_accuracy: 0.4250\n",
            "Epoch 16/100\n",
            "47/47 [==============================] - 23s 493ms/step - loss: 1.6854 - accuracy: 0.3872 - val_loss: 1.6575 - val_accuracy: 0.4600\n",
            "Epoch 17/100\n",
            "47/47 [==============================] - 23s 489ms/step - loss: 1.6549 - accuracy: 0.4067 - val_loss: 1.6861 - val_accuracy: 0.4050\n",
            "Epoch 18/100\n",
            "47/47 [==============================] - 24s 483ms/step - loss: 1.6454 - accuracy: 0.4289 - val_loss: 1.6250 - val_accuracy: 0.4450\n",
            "Epoch 19/100\n",
            "47/47 [==============================] - 24s 513ms/step - loss: 1.6292 - accuracy: 0.4262 - val_loss: 1.6545 - val_accuracy: 0.4500\n",
            "Epoch 20/100\n",
            "47/47 [==============================] - 22s 473ms/step - loss: 1.6190 - accuracy: 0.4161 - val_loss: 1.5936 - val_accuracy: 0.4500\n",
            "Epoch 21/100\n",
            "47/47 [==============================] - 23s 506ms/step - loss: 1.5936 - accuracy: 0.4336 - val_loss: 1.5884 - val_accuracy: 0.4550\n",
            "Epoch 22/100\n",
            "47/47 [==============================] - 24s 507ms/step - loss: 1.5986 - accuracy: 0.4389 - val_loss: 1.5502 - val_accuracy: 0.4900\n",
            "Epoch 23/100\n",
            "47/47 [==============================] - 23s 486ms/step - loss: 1.5757 - accuracy: 0.4383 - val_loss: 1.5659 - val_accuracy: 0.4550\n",
            "Epoch 24/100\n",
            "47/47 [==============================] - 22s 477ms/step - loss: 1.5580 - accuracy: 0.4470 - val_loss: 1.6755 - val_accuracy: 0.4150\n",
            "Epoch 25/100\n",
            "47/47 [==============================] - 23s 498ms/step - loss: 1.5445 - accuracy: 0.4624 - val_loss: 1.6052 - val_accuracy: 0.4450\n",
            "Epoch 26/100\n",
            "47/47 [==============================] - 22s 486ms/step - loss: 1.5454 - accuracy: 0.4430 - val_loss: 1.5473 - val_accuracy: 0.4650\n",
            "Epoch 27/100\n",
            "47/47 [==============================] - 23s 493ms/step - loss: 1.4896 - accuracy: 0.4772 - val_loss: 1.6393 - val_accuracy: 0.3950\n",
            "Epoch 28/100\n",
            "47/47 [==============================] - 23s 492ms/step - loss: 1.4934 - accuracy: 0.4732 - val_loss: 1.6539 - val_accuracy: 0.4000\n",
            "Epoch 29/100\n",
            "47/47 [==============================] - 23s 490ms/step - loss: 1.4894 - accuracy: 0.4812 - val_loss: 1.5173 - val_accuracy: 0.4900\n",
            "Epoch 30/100\n",
            "47/47 [==============================] - 25s 524ms/step - loss: 1.4516 - accuracy: 0.4906 - val_loss: 1.4609 - val_accuracy: 0.5100\n",
            "Epoch 31/100\n",
            "47/47 [==============================] - 25s 524ms/step - loss: 1.4483 - accuracy: 0.4886 - val_loss: 1.5625 - val_accuracy: 0.4350\n",
            "Epoch 32/100\n",
            "47/47 [==============================] - 23s 489ms/step - loss: 1.4492 - accuracy: 0.4866 - val_loss: 1.5413 - val_accuracy: 0.4350\n",
            "Epoch 33/100\n",
            "47/47 [==============================] - 22s 477ms/step - loss: 1.4238 - accuracy: 0.5060 - val_loss: 1.6950 - val_accuracy: 0.3900\n",
            "Epoch 34/100\n",
            "47/47 [==============================] - 23s 491ms/step - loss: 1.3992 - accuracy: 0.5141 - val_loss: 1.6647 - val_accuracy: 0.4400\n",
            "Epoch 35/100\n",
            "47/47 [==============================] - 22s 471ms/step - loss: 1.3901 - accuracy: 0.5215 - val_loss: 1.5497 - val_accuracy: 0.4550\n",
            "Epoch 36/100\n",
            "47/47 [==============================] - 24s 500ms/step - loss: 1.3931 - accuracy: 0.5107 - val_loss: 1.4941 - val_accuracy: 0.4750\n",
            "Epoch 37/100\n",
            "47/47 [==============================] - 23s 486ms/step - loss: 1.3903 - accuracy: 0.5161 - val_loss: 1.3953 - val_accuracy: 0.5300\n",
            "Epoch 38/100\n",
            "47/47 [==============================] - 24s 511ms/step - loss: 1.3350 - accuracy: 0.5376 - val_loss: 1.4999 - val_accuracy: 0.4850\n",
            "Epoch 39/100\n",
            "47/47 [==============================] - 25s 515ms/step - loss: 1.3067 - accuracy: 0.5530 - val_loss: 1.5312 - val_accuracy: 0.4650\n",
            "Epoch 40/100\n",
            "47/47 [==============================] - 23s 497ms/step - loss: 1.3151 - accuracy: 0.5369 - val_loss: 1.4121 - val_accuracy: 0.4950\n",
            "Epoch 41/100\n",
            "47/47 [==============================] - 22s 473ms/step - loss: 1.2893 - accuracy: 0.5530 - val_loss: 1.4644 - val_accuracy: 0.4750\n",
            "Epoch 42/100\n",
            "47/47 [==============================] - 24s 500ms/step - loss: 1.2848 - accuracy: 0.5651 - val_loss: 1.3622 - val_accuracy: 0.5350\n",
            "Epoch 43/100\n",
            "47/47 [==============================] - 23s 487ms/step - loss: 1.2657 - accuracy: 0.5644 - val_loss: 1.3911 - val_accuracy: 0.4550\n",
            "Epoch 44/100\n",
            "47/47 [==============================] - 23s 489ms/step - loss: 1.2227 - accuracy: 0.5779 - val_loss: 1.3832 - val_accuracy: 0.5000\n",
            "Epoch 45/100\n",
            "47/47 [==============================] - 23s 481ms/step - loss: 1.2101 - accuracy: 0.5792 - val_loss: 1.7462 - val_accuracy: 0.4050\n",
            "Epoch 46/100\n",
            "47/47 [==============================] - 23s 479ms/step - loss: 1.1790 - accuracy: 0.5832 - val_loss: 1.3974 - val_accuracy: 0.5050\n",
            "Epoch 47/100\n",
            "47/47 [==============================] - 23s 494ms/step - loss: 1.1958 - accuracy: 0.5758 - val_loss: 1.4224 - val_accuracy: 0.5150\n",
            "Epoch 48/100\n",
            "47/47 [==============================] - 23s 495ms/step - loss: 1.1884 - accuracy: 0.5805 - val_loss: 1.3333 - val_accuracy: 0.5150\n",
            "Epoch 49/100\n",
            "47/47 [==============================] - 23s 481ms/step - loss: 1.1538 - accuracy: 0.6141 - val_loss: 1.5237 - val_accuracy: 0.4850\n",
            "Epoch 50/100\n",
            "47/47 [==============================] - 23s 485ms/step - loss: 1.1111 - accuracy: 0.6188 - val_loss: 1.7251 - val_accuracy: 0.4500\n",
            "Epoch 51/100\n",
            "47/47 [==============================] - 25s 536ms/step - loss: 1.1053 - accuracy: 0.6302 - val_loss: 1.5879 - val_accuracy: 0.4500\n",
            "Epoch 52/100\n",
            "47/47 [==============================] - 21s 454ms/step - loss: 1.0923 - accuracy: 0.6121 - val_loss: 1.4310 - val_accuracy: 0.4950\n",
            "Epoch 53/100\n",
            "47/47 [==============================] - 23s 486ms/step - loss: 1.0938 - accuracy: 0.6255 - val_loss: 1.3460 - val_accuracy: 0.5050\n",
            "Epoch 54/100\n",
            "47/47 [==============================] - 23s 485ms/step - loss: 1.0665 - accuracy: 0.6221 - val_loss: 1.3557 - val_accuracy: 0.5500\n",
            "Epoch 55/100\n",
            "47/47 [==============================] - 24s 504ms/step - loss: 1.0539 - accuracy: 0.6295 - val_loss: 1.5831 - val_accuracy: 0.4450\n",
            "Epoch 56/100\n",
            "47/47 [==============================] - 25s 537ms/step - loss: 1.0308 - accuracy: 0.6376 - val_loss: 1.3426 - val_accuracy: 0.5150\n",
            "Epoch 57/100\n",
            "47/47 [==============================] - 25s 522ms/step - loss: 1.0031 - accuracy: 0.6490 - val_loss: 1.2560 - val_accuracy: 0.5100\n",
            "Epoch 58/100\n",
            "47/47 [==============================] - 22s 474ms/step - loss: 0.9905 - accuracy: 0.6544 - val_loss: 1.2945 - val_accuracy: 0.5650\n",
            "Epoch 59/100\n",
            "47/47 [==============================] - 23s 491ms/step - loss: 0.9808 - accuracy: 0.6617 - val_loss: 1.2658 - val_accuracy: 0.5250\n",
            "Epoch 60/100\n",
            "47/47 [==============================] - 23s 487ms/step - loss: 0.9696 - accuracy: 0.6631 - val_loss: 1.2694 - val_accuracy: 0.5500\n",
            "Epoch 61/100\n",
            "47/47 [==============================] - 22s 476ms/step - loss: 0.9746 - accuracy: 0.6617 - val_loss: 1.2937 - val_accuracy: 0.5150\n",
            "Epoch 62/100\n",
            "47/47 [==============================] - 23s 503ms/step - loss: 0.9248 - accuracy: 0.6785 - val_loss: 1.2346 - val_accuracy: 0.5450\n",
            "Epoch 63/100\n",
            "47/47 [==============================] - 24s 513ms/step - loss: 0.8809 - accuracy: 0.6812 - val_loss: 1.2521 - val_accuracy: 0.5650\n",
            "Epoch 64/100\n",
            "47/47 [==============================] - 23s 482ms/step - loss: 0.9003 - accuracy: 0.6859 - val_loss: 1.3273 - val_accuracy: 0.5700\n",
            "Epoch 65/100\n",
            "47/47 [==============================] - 22s 478ms/step - loss: 0.8769 - accuracy: 0.7040 - val_loss: 1.4293 - val_accuracy: 0.4850\n",
            "Epoch 66/100\n",
            "47/47 [==============================] - 23s 500ms/step - loss: 0.8808 - accuracy: 0.6993 - val_loss: 1.3022 - val_accuracy: 0.5500\n",
            "Epoch 67/100\n",
            "47/47 [==============================] - 22s 467ms/step - loss: 0.8404 - accuracy: 0.6973 - val_loss: 1.2069 - val_accuracy: 0.5900\n",
            "Epoch 68/100\n",
            "47/47 [==============================] - 23s 464ms/step - loss: 0.8320 - accuracy: 0.7121 - val_loss: 1.2339 - val_accuracy: 0.6150\n",
            "Epoch 69/100\n",
            "47/47 [==============================] - 23s 482ms/step - loss: 0.7879 - accuracy: 0.7289 - val_loss: 1.1423 - val_accuracy: 0.5950\n",
            "Epoch 70/100\n",
            "47/47 [==============================] - 23s 491ms/step - loss: 0.7826 - accuracy: 0.7188 - val_loss: 1.3003 - val_accuracy: 0.5600\n",
            "Epoch 71/100\n",
            "47/47 [==============================] - 24s 501ms/step - loss: 0.7738 - accuracy: 0.7255 - val_loss: 1.5963 - val_accuracy: 0.5000\n",
            "Epoch 72/100\n",
            "47/47 [==============================] - 22s 460ms/step - loss: 0.7908 - accuracy: 0.7322 - val_loss: 1.4786 - val_accuracy: 0.5350\n",
            "Epoch 73/100\n",
            "47/47 [==============================] - 22s 473ms/step - loss: 0.7371 - accuracy: 0.7483 - val_loss: 1.4062 - val_accuracy: 0.5200\n",
            "Epoch 74/100\n",
            "47/47 [==============================] - 22s 455ms/step - loss: 0.7471 - accuracy: 0.7403 - val_loss: 1.2598 - val_accuracy: 0.6050\n",
            "Epoch 75/100\n",
            "47/47 [==============================] - 23s 495ms/step - loss: 0.6890 - accuracy: 0.7671 - val_loss: 1.2037 - val_accuracy: 0.6250\n",
            "Epoch 76/100\n",
            "47/47 [==============================] - 22s 479ms/step - loss: 0.6672 - accuracy: 0.7745 - val_loss: 1.2493 - val_accuracy: 0.5850\n",
            "Epoch 77/100\n",
            "47/47 [==============================] - 22s 480ms/step - loss: 0.6929 - accuracy: 0.7584 - val_loss: 1.3298 - val_accuracy: 0.5800\n",
            "Epoch 78/100\n",
            "47/47 [==============================] - 22s 449ms/step - loss: 0.6594 - accuracy: 0.7785 - val_loss: 1.1718 - val_accuracy: 0.6700\n",
            "Epoch 79/100\n",
            "47/47 [==============================] - 23s 492ms/step - loss: 0.6610 - accuracy: 0.7832 - val_loss: 1.1438 - val_accuracy: 0.6200\n",
            "Epoch 80/100\n",
            "47/47 [==============================] - 23s 487ms/step - loss: 0.6245 - accuracy: 0.7973 - val_loss: 1.0856 - val_accuracy: 0.6250\n",
            "Epoch 81/100\n",
            "47/47 [==============================] - 23s 486ms/step - loss: 0.6346 - accuracy: 0.7765 - val_loss: 1.1473 - val_accuracy: 0.6100\n",
            "Epoch 82/100\n",
            "47/47 [==============================] - 22s 460ms/step - loss: 0.5983 - accuracy: 0.7906 - val_loss: 1.0386 - val_accuracy: 0.6500\n",
            "Epoch 83/100\n",
            "47/47 [==============================] - 23s 475ms/step - loss: 0.6029 - accuracy: 0.7966 - val_loss: 1.1162 - val_accuracy: 0.6200\n",
            "Epoch 84/100\n",
            "47/47 [==============================] - 23s 488ms/step - loss: 0.5766 - accuracy: 0.8081 - val_loss: 1.4371 - val_accuracy: 0.5350\n",
            "Epoch 85/100\n",
            "47/47 [==============================] - 25s 529ms/step - loss: 0.5794 - accuracy: 0.8054 - val_loss: 1.0471 - val_accuracy: 0.6700\n",
            "Epoch 86/100\n",
            "47/47 [==============================] - 25s 527ms/step - loss: 0.5457 - accuracy: 0.8107 - val_loss: 1.0583 - val_accuracy: 0.7050\n",
            "Epoch 87/100\n",
            "47/47 [==============================] - 25s 524ms/step - loss: 0.5507 - accuracy: 0.8107 - val_loss: 1.1078 - val_accuracy: 0.6600\n",
            "Epoch 88/100\n",
            "47/47 [==============================] - 22s 458ms/step - loss: 0.5131 - accuracy: 0.8289 - val_loss: 1.1669 - val_accuracy: 0.6750\n",
            "Epoch 89/100\n",
            "47/47 [==============================] - 23s 493ms/step - loss: 0.5192 - accuracy: 0.8174 - val_loss: 1.4569 - val_accuracy: 0.6100\n",
            "Epoch 90/100\n",
            "47/47 [==============================] - 21s 449ms/step - loss: 0.4844 - accuracy: 0.8423 - val_loss: 1.0418 - val_accuracy: 0.7200\n",
            "Epoch 91/100\n",
            "47/47 [==============================] - 23s 492ms/step - loss: 0.4880 - accuracy: 0.8342 - val_loss: 1.1002 - val_accuracy: 0.6700\n",
            "Epoch 92/100\n",
            "47/47 [==============================] - 23s 493ms/step - loss: 0.4616 - accuracy: 0.8409 - val_loss: 1.1060 - val_accuracy: 0.6900\n",
            "Epoch 93/100\n",
            "47/47 [==============================] - 22s 471ms/step - loss: 0.4656 - accuracy: 0.8322 - val_loss: 1.0832 - val_accuracy: 0.6550\n",
            "Epoch 94/100\n",
            "47/47 [==============================] - 22s 483ms/step - loss: 0.4453 - accuracy: 0.8450 - val_loss: 1.0058 - val_accuracy: 0.7150\n",
            "Epoch 95/100\n",
            "47/47 [==============================] - 23s 482ms/step - loss: 0.4037 - accuracy: 0.8671 - val_loss: 1.2420 - val_accuracy: 0.6650\n",
            "Epoch 96/100\n",
            "47/47 [==============================] - 23s 474ms/step - loss: 0.4148 - accuracy: 0.8510 - val_loss: 1.2488 - val_accuracy: 0.6500\n",
            "Epoch 97/100\n",
            "47/47 [==============================] - 24s 521ms/step - loss: 0.4376 - accuracy: 0.8611 - val_loss: 1.0733 - val_accuracy: 0.7400\n",
            "Epoch 98/100\n",
            "47/47 [==============================] - 21s 446ms/step - loss: 0.3679 - accuracy: 0.8711 - val_loss: 1.0276 - val_accuracy: 0.7200\n",
            "Epoch 99/100\n",
            "47/47 [==============================] - 23s 493ms/step - loss: 0.4192 - accuracy: 0.8591 - val_loss: 1.0458 - val_accuracy: 0.7250\n",
            "Epoch 100/100\n",
            "47/47 [==============================] - 23s 492ms/step - loss: 0.3525 - accuracy: 0.8919 - val_loss: 1.0925 - val_accuracy: 0.7200\n"
          ]
        }
      ],
      "source": [
        "# Compile the model\n",
        "model.compile(\n",
        "    loss='categorical_crossentropy',\n",
        "    optimizer=tf.keras.optimizers.RMSprop(learning_rate=0.0001),\n",
        "    metrics=['accuracy']\n",
        ")\n",
        "\n",
        "# Train the model\n",
        "history = model.fit(\n",
        "    train_generator,\n",
        "    epochs=100,\n",
        "    validation_data=validation_generator,\n",
        "    verbose=1\n",
        ")"
      ]
    },
    {
      "cell_type": "markdown",
      "metadata": {
        "id": "SdVIHM_NxJdX"
      },
      "source": [
        "## TEST MODEL\n"
      ]
    },
    {
      "cell_type": "code",
      "execution_count": null,
      "metadata": {
        "id": "S3YDZMtSryl-",
        "colab": {
          "base_uri": "https://localhost:8080/"
        },
        "outputId": "4e401128-10da-49e5-f5b3-97538598ed77"
      },
      "outputs": [
        {
          "output_type": "stream",
          "name": "stdout",
          "text": [
            "{'Batik Betawi': 0, 'Batik Blekok': 1, 'Batik Cendrawasih': 2, 'Batik Geblek Renteng': 3, 'Batik Kawung': 4, 'Batik Lasem': 5, 'Batik Megamendung': 6, 'Batik Parang': 7, 'Batik Poleng': 8, 'Batik Sekar Jagad': 9}\n"
          ]
        }
      ],
      "source": [
        "motivs = train_generator.class_indices\n",
        "print(motivs)"
      ]
    },
    {
      "cell_type": "code",
      "execution_count": null,
      "metadata": {
        "colab": {
          "base_uri": "https://localhost:8080/"
        },
        "id": "jtYYp8dUrUem",
        "outputId": "749433f0-dbec-4f7d-b140-3b284815adea"
      },
      "outputs": [
        {
          "output_type": "stream",
          "name": "stdout",
          "text": [
            "Batik Betawi Predictions --> 14/20 correct\n",
            "Batik Blekok Predictions --> 20/20 correct\n",
            "Batik Cendrawasih Predictions --> 13/20 correct\n",
            "Batik Geblek Renteng Predictions --> 17/20 correct\n",
            "Batik Kawung Predictions --> 16/20 correct\n",
            "Batik Lasem Predictions --> 11/20 correct\n",
            "Batik Megamendung Predictions --> 16/20 correct\n",
            "Batik Parang Predictions --> 10/20 correct\n",
            "Batik Poleng Predictions --> 10/20 correct\n",
            "Batik Sekar Jagad Predictions --> 17/20 correct\n"
          ]
        }
      ],
      "source": [
        "test_dir = '/content/dataset/TEST'\n",
        "\n",
        "for motive in motivs.keys():\n",
        "    images_list = os.listdir(os.path.join(test_dir, motive))\n",
        "    # plt.figure(figsize=(16, 20))\n",
        "\n",
        "    correct_count = 0\n",
        "\n",
        "    for idx, image in enumerate(images_list):\n",
        "        img_path = f'/content/dataset/TEST/{motive}/{image}'\n",
        "        img = load_img(img_path, target_size=(150, 150))\n",
        "\n",
        "        img_array = img_to_array(img) / 255.0\n",
        "        img_array = tf.expand_dims(img_array, 0)\n",
        "\n",
        "        motives_list = list(motivs.keys())\n",
        "        prediction = model(img_array)\n",
        "        pred_idx = np.argmax(prediction)\n",
        "        pred_motive = motives_list[pred_idx]\n",
        "        pred_confidence = prediction[0][pred_idx] * 100\n",
        "\n",
        "        if pred_motive == motive:\n",
        "            correct_count += 1\n",
        "\n",
        "        # plt.subplot(5, 4, idx+1)\n",
        "        # plt.title(f'Actual: {motive}\\nPrediction: {pred_motive} {pred_confidence:.2f}%')\n",
        "        # plt.imshow(img)\n",
        "        # plt.axis('off')\n",
        "\n",
        "    print(f'{motive} Predictions --> {correct_count}/20 correct')\n",
        "# plt.show()"
      ]
    },
    {
      "cell_type": "markdown",
      "metadata": {
        "id": "g2Ev0cqByuFL"
      },
      "source": [
        "# SAVE MODEL h.5\n"
      ]
    },
    {
      "cell_type": "code",
      "execution_count": null,
      "metadata": {
        "id": "ZVclUAdvytHU"
      },
      "outputs": [],
      "source": [
        "import tensorflow as tf\n",
        "from google.colab import files\n",
        "\n",
        "model.save('modelCNN.h5')"
      ]
    }
  ],
  "metadata": {
    "accelerator": "GPU",
    "colab": {
      "gpuType": "T4",
      "provenance": []
    },
    "kernelspec": {
      "display_name": "Python 3",
      "name": "python3"
    },
    "language_info": {
      "name": "python"
    }
  },
  "nbformat": 4,
  "nbformat_minor": 0
}